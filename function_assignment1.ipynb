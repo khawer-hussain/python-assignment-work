{
 "cells": [
  {
   "cell_type": "code",
   "execution_count": 3,
   "id": "b16213de-6c5c-4fc8-bd9b-d1db3c1f7a7c",
   "metadata": {},
   "outputs": [
    {
     "data": {
      "text/plain": [
       "23"
      ]
     },
     "execution_count": 3,
     "metadata": {},
     "output_type": "execute_result"
    }
   ],
   "source": [
    "def max_of_three(a, b, c):\n",
    "    return max(a, b, c)\n",
    "\n",
    "max_of_three(1, 12, 23)"
   ]
  },
  {
   "cell_type": "code",
   "execution_count": 27,
   "id": "8c68240a-dae3-47ae-aae9-c5959b529fa6",
   "metadata": {},
   "outputs": [
    {
     "data": {
      "text/plain": [
       "15"
      ]
     },
     "execution_count": 27,
     "metadata": {},
     "output_type": "execute_result"
    }
   ],
   "source": [
    "def add_list():\n",
    "  lst=[1,2,3,4,5]\n",
    "  sum=0\n",
    "  for a in range(6):\n",
    "    sum+=a\n",
    "  return sum\n",
    "add_list()\n"
   ]
  },
  {
   "cell_type": "code",
   "execution_count": 31,
   "id": "1b213414-c737-4d44-9f66-40f80a4ee464",
   "metadata": {},
   "outputs": [
    {
     "data": {
      "text/plain": [
       "-336"
      ]
     },
     "execution_count": 31,
     "metadata": {},
     "output_type": "execute_result"
    }
   ],
   "source": [
    "def multiply_list(numbers):\n",
    "    product = 1\n",
    "    for num in numbers:\n",
    "        product *= num\n",
    "    return product\n",
    "sample_list = (8, 2, 3, -1, 7)\n",
    "multiply_list(sample_list)\n"
   ]
  },
  {
   "cell_type": "code",
   "execution_count": 33,
   "id": "ab63fe63-62ec-481e-9585-8f08876a4f5b",
   "metadata": {},
   "outputs": [
    {
     "data": {
      "text/plain": [
       "'dcba4321'"
      ]
     },
     "execution_count": 33,
     "metadata": {},
     "output_type": "execute_result"
    }
   ],
   "source": [
    "def reverse_string(s):\n",
    "    return s[::-1]\n",
    "sample_string = \"1234abcd\"\n",
    "reverse_string(sample_string)\n"
   ]
  },
  {
   "cell_type": "code",
   "execution_count": 1,
   "id": "9ae15341-e21c-4dcc-86f7-bcdbbaa61617",
   "metadata": {},
   "outputs": [
    {
     "name": "stdout",
     "output_type": "stream",
     "text": [
      "The factorial of 5 is 120.\n"
     ]
    }
   ],
   "source": [
    "def factorial(n):\n",
    "    if not isinstance(n, int) or n < 0:\n",
    "        raise ValueError(\"Input must be a non-negative integer.\")\n",
    "    if n == 0 or n == 1:\n",
    "        return 1\n",
    "    result = 1\n",
    "    for i in range(2, n + 1):\n",
    "        result *= i\n",
    "    return result\n",
    "number = 5\n",
    "print(f\"The factorial of {number} is {factorial(number)}.\")\n"
   ]
  },
  {
   "cell_type": "code",
   "execution_count": 7,
   "id": "dd31b9af-3c8f-4ed7-82ce-ed5cc1ec002d",
   "metadata": {},
   "outputs": [
    {
     "name": "stdout",
     "output_type": "stream",
     "text": [
      "10 is within the range 5 to 15.\n"
     ]
    }
   ],
   "source": [
    "def is_within_range(number, start, end):\n",
    "    if start <= number <= end:\n",
    "        return True\n",
    "    return False\n",
    "num = 10\n",
    "range_start = 5\n",
    "range_end = 15\n",
    "\n",
    "if is_within_range(num, range_start, range_end):\n",
    "    print(f\"{num} is within the range {range_start} to {range_end}.\")\n",
    "else:\n",
    "    print(f\"{num} is not within the range {range_start} to {range_end}.\")\n"
   ]
  },
  {
   "cell_type": "code",
   "execution_count": 9,
   "id": "d067852c-926c-4ae9-8e36-87a7df7827b5",
   "metadata": {},
   "outputs": [
    {
     "name": "stdout",
     "output_type": "stream",
     "text": [
      "No. of Upper case characters : 3\n",
      "No. of Lower case characters : 12\n"
     ]
    }
   ],
   "source": [
    "def count_case_letters(s):\n",
    "    upper_count = 0\n",
    "    lower_count = 0\n",
    "    for char in s:\n",
    "        if char.isupper():\n",
    "            upper_count += 1\n",
    "        elif char.islower():\n",
    "            lower_count += 1\n",
    "\n",
    "    return {\"uppercase\": upper_count, \"lowercase\": lower_count}\n",
    "sample_string = 'The quick Brow Fox'\n",
    "result = count_case_letters(sample_string)\n",
    "print(f\"No. of Upper case characters : {result['uppercase']}\")\n",
    "print(f\"No. of Lower case characters : {result['lowercase']}\")\n"
   ]
  },
  {
   "cell_type": "code",
   "execution_count": 11,
   "id": "f4637318-a50a-4dd6-98fd-1762cd8ab629",
   "metadata": {},
   "outputs": [
    {
     "name": "stdout",
     "output_type": "stream",
     "text": [
      "Unique List: [1, 2, 3, 4, 5]\n"
     ]
    }
   ],
   "source": [
    "def get_unique_elements(lst):\n",
    "    return list(set(lst))\n",
    "sample_list = [1, 2, 3, 3, 3, 3, 4, 5]\n",
    "unique_list = get_unique_elements(sample_list)\n",
    "print(f\"Unique List: {unique_list}\")\n"
   ]
  },
  {
   "cell_type": "code",
   "execution_count": 13,
   "id": "5e07b657-b328-4b3e-8eab-8b10959e73c9",
   "metadata": {},
   "outputs": [
    {
     "name": "stdout",
     "output_type": "stream",
     "text": [
      "29 is a prime number.\n"
     ]
    }
   ],
   "source": [
    "def is_prime(number):\n",
    "    if number <= 1:\n",
    "        return False\n",
    "    for i in range(2, int(number ** 0.5) + 1):\n",
    "        if number % i == 0:\n",
    "            return False\n",
    "    return True\n",
    "num = 29\n",
    "if is_prime(num):\n",
    "    print(f\"{num} is a prime number.\")\n",
    "else:\n",
    "    print(f\"{num} is not a prime number.\")\n"
   ]
  },
  {
   "cell_type": "code",
   "execution_count": 15,
   "id": "b3c553ad-f96f-45c0-8178-c7f035d3fa80",
   "metadata": {},
   "outputs": [
    {
     "name": "stdout",
     "output_type": "stream",
     "text": [
      "Expected Result: [2, 4, 6, 8]\n"
     ]
    }
   ],
   "source": [
    "def get_even_numbers(lst):\n",
    "    return [num for num in lst if num % 2 == 0]\n",
    "sample_list = [1, 2, 3, 4, 5, 6, 7, 8, 9]\n",
    "result = get_even_numbers(sample_list)\n",
    "print(f\"Expected Result: {result}\")\n"
   ]
  },
  {
   "cell_type": "code",
   "execution_count": 19,
   "id": "5f43c021-4e44-4853-83ae-1c7b665fddf6",
   "metadata": {},
   "outputs": [
    {
     "name": "stdout",
     "output_type": "stream",
     "text": [
      "6 is a perfect number.\n"
     ]
    }
   ],
   "source": [
    "def is_perfect_number(number):\n",
    "    if number <= 1:\n",
    "        return False\n",
    "    divisors_sum = 0\n",
    "    for i in range(1, number // 2 + 1):\n",
    "        if number % i == 0:\n",
    "            divisors_sum += i\n",
    "    return divisors_sum == number\n",
    "num = 6\n",
    "if is_perfect_number(num):\n",
    "    print(f\"{num} is a perfect number.\")\n",
    "else:\n",
    "    print(f\"{num} is not a perfect number.\")\n"
   ]
  },
  {
   "cell_type": "code",
   "execution_count": 21,
   "id": "afab4d88-d8af-42ff-bbc7-d5a2994b7c27",
   "metadata": {},
   "outputs": [
    {
     "name": "stdout",
     "output_type": "stream",
     "text": [
      "'nurses run' is a palindrome.\n"
     ]
    }
   ],
   "source": [
    "def is_palindrome(s):\n",
    "    s = s.replace(\" \", \"\").lower()\n",
    "    return s == s[::-1]\n",
    "input_string = \"nurses run\"\n",
    "if is_palindrome(input_string):\n",
    "    print(f\"'{input_string}' is a palindrome.\")\n",
    "else:\n",
    "    print(f\"'{input_string}' is not a palindrome.\")\n"
   ]
  },
  {
   "cell_type": "code",
   "execution_count": null,
   "id": "1a78cfc7-e88f-4fa0-bae6-5177c3934306",
   "metadata": {},
   "outputs": [],
   "source": []
  }
 ],
 "metadata": {
  "kernelspec": {
   "display_name": "Python 3 (ipykernel)",
   "language": "python",
   "name": "python3"
  },
  "language_info": {
   "codemirror_mode": {
    "name": "ipython",
    "version": 3
   },
   "file_extension": ".py",
   "mimetype": "text/x-python",
   "name": "python",
   "nbconvert_exporter": "python",
   "pygments_lexer": "ipython3",
   "version": "3.12.7"
  }
 },
 "nbformat": 4,
 "nbformat_minor": 5
}
