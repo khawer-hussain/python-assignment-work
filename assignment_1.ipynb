{
 "cells": [
  {
   "cell_type": "markdown",
   "id": "59f31176-f091-4c0a-8a18-d5c5b265b9b1",
   "metadata": {},
   "source": [
    "### Topic: print()\n",
    "#### 1) Using the python print function print any string value, integer value, boolean value, float value\n",
    "#### in single print command"
   ]
  },
  {
   "cell_type": "code",
   "execution_count": 12,
   "id": "efda2034-fdc4-476d-9c5d-5ba46a4461f9",
   "metadata": {},
   "outputs": [
    {
     "name": "stdout",
     "output_type": "stream",
     "text": [
      "Khawar hussain 7 False 22.9\n"
     ]
    }
   ],
   "source": [
    "print(\"Khawar hussain\" , 7 ,False ,22.9)"
   ]
  },
  {
   "cell_type": "markdown",
   "id": "609ad5df-97ff-441b-af27-c7d1e416afa9",
   "metadata": {},
   "source": [
    "#### 2) Using the python print function print hyphon(-) separated any string value, integer value,\n",
    "#### boolean value, float value in single print command"
   ]
  },
  {
   "cell_type": "code",
   "execution_count": 31,
   "id": "9d193ce9-70b8-4985-bae2-e69870e40273",
   "metadata": {},
   "outputs": [
    {
     "name": "stdout",
     "output_type": "stream",
     "text": [
      "Khawar - hussain 7 False 22.9\n"
     ]
    }
   ],
   "source": [
    "print(\"Khawar\",\"-\", \"hussain\" , 7 ,False ,22.9)"
   ]
  },
  {
   "cell_type": "markdown",
   "id": "be17c6b6-0191-40a4-b433-b140e4ca9b9f",
   "metadata": {},
   "source": [
    "#### 3) Using the python print function print any string value, integer value, boolean value, float value\n",
    "#### in separate print command. But every value must be space separated and in single line\n"
   ]
  },
  {
   "cell_type": "code",
   "execution_count": 33,
   "id": "b94998f4-fb22-4092-bf9d-c4e89de1a1ce",
   "metadata": {},
   "outputs": [
    {
     "name": "stdout",
     "output_type": "stream",
     "text": [
      "Khawar\n",
      "7\n",
      "22.9\n",
      "False\n"
     ]
    }
   ],
   "source": [
    "print(\"Khawar\")\n",
    "print(7)\n",
    "print(22.9)\n",
    "print(False)\n",
    "\n"
   ]
  },
  {
   "cell_type": "markdown",
   "id": "b6fb24cc-472c-4dca-b7ff-a69ff1ab9f5b",
   "metadata": {},
   "source": [
    "#### 4) Can a python print function take no value to print???"
   ]
  },
  {
   "cell_type": "code",
   "execution_count": 35,
   "id": "848307cd-2d3f-45b0-b4e2-36c208d28fcc",
   "metadata": {},
   "outputs": [
    {
     "name": "stdout",
     "output_type": "stream",
     "text": [
      "\n"
     ]
    }
   ],
   "source": [
    "print(\"\") # no its value will be none"
   ]
  },
  {
   "cell_type": "markdown",
   "id": "b924e216-095a-4cd8-99d2-e9c1686d0f51",
   "metadata": {},
   "source": [
    "### TOPIC :Variables in Python Operators\n",
    "#### 5) One of my friends name is Mr. Ahmed. He is 30 years old. He is a lawer by profession. He has\n",
    "#### done his bachelors in law in the year 2005. He is working with a reputable law firm 'The Himalya\n",
    "#### Associates' in Karachi since 2015. He is a handsome lawer with height of 5.10 feets and weight\n",
    "#### 70600g. His monthly income is Rs. 200k PKR.\n",
    "Note: Create variables from above text and also assign values from the text."
   ]
  },
  {
   "cell_type": "code",
   "execution_count": 43,
   "id": "25091b97-92c0-4389-b975-6c0421cdb11e",
   "metadata": {},
   "outputs": [
    {
     "name": "stdout",
     "output_type": "stream",
     "text": [
      "Mr.Ahmed \n",
      " 30 \n",
      " bachelors \n",
      " lawyer\n"
     ]
    }
   ],
   "source": [
    "name = \"Mr.Ahmed\"\n",
    "age = 30\n",
    "profession = \"lawyer\"\n",
    "education = \"bachelors\"\n",
    "print(name,\"\\n\", age,\"\\n\", education,\"\\n\", profession)"
   ]
  },
  {
   "cell_type": "markdown",
   "id": "f138f0bf-fdd9-4f74-a81d-84b78cd3318f",
   "metadata": {},
   "source": [
    "#### 6)How many years has been to Mr. Ahmed after his bachelors degree? Create a variable that\n",
    "#### hold current year value and then subtract it from his passout year"
   ]
  },
  {
   "cell_type": "code",
   "execution_count": 45,
   "id": "5aa468a3-3ca2-45e8-9b43-a549e0fa4296",
   "metadata": {},
   "outputs": [
    {
     "name": "stdout",
     "output_type": "stream",
     "text": [
      "years has been to Mr. Ahmed after his bachelors degree:  19\n"
     ]
    }
   ],
   "source": [
    "current_year=2024\n",
    "bachelors_year=2005\n",
    "yearsAfterBachelors=current_year-bachelors_year\n",
    "print(\"years has been to Mr. Ahmed after his bachelors degree: \", yearsAfterBachelors )\n"
   ]
  },
  {
   "cell_type": "markdown",
   "id": "a928ae03-4239-4e89-82c3-99fbe38f9771",
   "metadata": {},
   "source": [
    "#### 7) How many years has Mr. Ahmed been working with law firm 'The Himalya Associates'. Create\n",
    "#### necesary variables and print the correct number of years in working in the firm\n"
   ]
  },
  {
   "cell_type": "code",
   "execution_count": 47,
   "id": "f2357514-c19a-4d68-a195-556de585bcc0",
   "metadata": {},
   "outputs": [
    {
     "name": "stdout",
     "output_type": "stream",
     "text": [
      "years has been to Mr. Ahmed after his joining in himalya:  9\n"
     ]
    }
   ],
   "source": [
    "current_year=2024\n",
    "joining_year=2015\n",
    "yearsAfterJoining=current_year-joining_year\n",
    "print(\"years has been to Mr. Ahmed after his joining in himalya: \", yearsAfterJoining )"
   ]
  },
  {
   "cell_type": "markdown",
   "id": "81aac7c9-f640-4a87-b6f8-694b78070abd",
   "metadata": {},
   "source": [
    "#### 8)Convert the monthly income of Mr. Ahmed in dollars. Create necesary variables and print the\n",
    "#### income in dollars."
   ]
  },
  {
   "cell_type": "code",
   "execution_count": 54,
   "id": "6bdfb841-ca10-4aff-ae51-1bb1397f48fa",
   "metadata": {},
   "outputs": [
    {
     "name": "stdout",
     "output_type": "stream",
     "text": [
      "monthly income of Mr. Ahmed in dollars: $ 722.0216606498195\n"
     ]
    }
   ],
   "source": [
    "income_rupee=200000\n",
    "income_dollar=(income_rupee)/277\n",
    "print(\"monthly income of Mr. Ahmed in dollars: $\", income_dollar)"
   ]
  },
  {
   "cell_type": "markdown",
   "id": "7a6c3d22-09d0-4580-8eb7-d11b7ca76928",
   "metadata": {},
   "source": [
    "#### 9) Check if the income in dollars is a float or integer value. if it is float, re-write the code so that\n",
    "#### income gets converted in integer. print the income in integer type value\n"
   ]
  },
  {
   "cell_type": "code",
   "execution_count": 56,
   "id": "c3999409-2a1b-4948-b9ef-90ae2f74b429",
   "metadata": {},
   "outputs": [
    {
     "name": "stdout",
     "output_type": "stream",
     "text": [
      "monthly income of Mr. Ahmed in dollars: $ 722.0216606498195\n",
      "monthly income of Mr. Ahmed in dollars: $ 722\n"
     ]
    }
   ],
   "source": [
    "print(\"monthly income of Mr. Ahmed in dollars: $\", income_dollar)\n",
    "print(\"monthly income of Mr. Ahmed in dollars: $\", int(income_dollar))\n"
   ]
  },
  {
   "cell_type": "markdown",
   "id": "29ee9b3f-9f69-434b-a4f7-73edf8ec29f3",
   "metadata": {},
   "source": [
    "#### 10) Can Rs. 100 be divided equally among 6 students? HINT: % operator (modulo)"
   ]
  },
  {
   "cell_type": "code",
   "execution_count": 60,
   "id": "dfad4e51-b7e1-49b0-a826-2d97b82afb55",
   "metadata": {},
   "outputs": [
    {
     "data": {
      "text/plain": [
       "4"
      ]
     },
     "execution_count": 60,
     "metadata": {},
     "output_type": "execute_result"
    }
   ],
   "source": [
    "100%6"
   ]
  },
  {
   "cell_type": "code",
   "execution_count": 62,
   "id": "fe8320e5-5e0d-40a3-a037-ae679960d479",
   "metadata": {},
   "outputs": [
    {
     "data": {
      "text/plain": [
       "0"
      ]
     },
     "execution_count": 62,
     "metadata": {},
     "output_type": "execute_result"
    }
   ],
   "source": [
    "96%6\n"
   ]
  },
  {
   "cell_type": "code",
   "execution_count": null,
   "id": "efee5f11-83db-4e25-b90f-fd0e3a17bc59",
   "metadata": {},
   "outputs": [],
   "source": []
  }
 ],
 "metadata": {
  "kernelspec": {
   "display_name": "Python 3 (ipykernel)",
   "language": "python",
   "name": "python3"
  },
  "language_info": {
   "codemirror_mode": {
    "name": "ipython",
    "version": 3
   },
   "file_extension": ".py",
   "mimetype": "text/x-python",
   "name": "python",
   "nbconvert_exporter": "python",
   "pygments_lexer": "ipython3",
   "version": "3.12.7"
  }
 },
 "nbformat": 4,
 "nbformat_minor": 5
}
