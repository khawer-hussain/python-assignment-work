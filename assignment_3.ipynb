{
 "cells": [
  {
   "cell_type": "code",
   "execution_count": 1,
   "id": "aeef6aef-af60-4a00-b618-ecede65524de",
   "metadata": {},
   "outputs": [
    {
     "name": "stdin",
     "output_type": "stream",
     "text": [
      "Enter the total purchase amount: $ 3000\n"
     ]
    },
    {
     "name": "stdout",
     "output_type": "stream",
     "text": [
      "Discount applied! Final price: $2700.00\n"
     ]
    }
   ],
   "source": [
    "total_purchase = float(input(\"Enter the total purchase amount: $\"))\n",
    "if total_purchase > 100:\n",
    "    final_price = total_purchase * 0.9\n",
    "    print(f\"Discount applied! Final price: ${final_price:.2f}\")\n",
    "else:\n",
    "    print(f\"No discount. Total price: ${total_purchase:.2f}\")\n"
   ]
  },
  {
   "cell_type": "code",
   "execution_count": 3,
   "id": "00a4508a-f4bb-4bcb-93aa-02d73134e340",
   "metadata": {},
   "outputs": [
    {
     "name": "stdin",
     "output_type": "stream",
     "text": [
      "Enter the number of items:  12\n",
      "Enter the price per item: $ 300\n"
     ]
    },
    {
     "name": "stdout",
     "output_type": "stream",
     "text": [
      "Bulk discount applied! Total price: $3060.00\n"
     ]
    }
   ],
   "source": [
    "items = int(input(\"Enter the number of items: \"))\n",
    "price_per_item = float(input(\"Enter the price per item: $\"))\n",
    "total_price = items * price_per_item\n",
    "\n",
    "if items > 5:\n",
    "    total_price *= 0.85\n",
    "    print(f\"Bulk discount applied! Total price: ${total_price:.2f}\")\n",
    "else:\n",
    "    print(f\"No discount. Total price: ${total_price:.2f}\")\n"
   ]
  },
  {
   "cell_type": "code",
   "execution_count": 5,
   "id": "2684b855-2653-4fe6-91cb-c79529f9e11d",
   "metadata": {},
   "outputs": [
    {
     "name": "stdin",
     "output_type": "stream",
     "text": [
      "Is the customer a member? (yes/no):  yes\n",
      "Enter the total price: $ 23\n"
     ]
    },
    {
     "name": "stdout",
     "output_type": "stream",
     "text": [
      "Discounted price: $18.40\n"
     ]
    }
   ],
   "source": [
    "is_member = input(\"Is the customer a member? (yes/no): \").lower() == \"yes\"\n",
    "total_price = float(input(\"Enter the total price: $\"))\n",
    "\n",
    "if is_member:\n",
    "    discounted_price = total_price * 0.8\n",
    "else:\n",
    "    discounted_price = total_price * 0.95\n",
    "\n",
    "print(f\"Discounted price: ${discounted_price:.2f}\")\n"
   ]
  },
  {
   "cell_type": "code",
   "execution_count": 7,
   "id": "bde76776-eb86-4b4f-b36d-310f2691695c",
   "metadata": {},
   "outputs": [
    {
     "name": "stdin",
     "output_type": "stream",
     "text": [
      "Is today a holiday? (yes/no):  no\n",
      "Enter the total price: $ 200\n"
     ]
    },
    {
     "name": "stdout",
     "output_type": "stream",
     "text": [
      "Price after discount: $180.00\n"
     ]
    }
   ],
   "source": [
    "is_holiday = input(\"Is today a holiday? (yes/no): \").lower() == \"yes\"\n",
    "total_price = float(input(\"Enter the total price: $\"))\n",
    "\n",
    "if is_holiday:\n",
    "    discounted_price = total_price * 0.75\n",
    "else:\n",
    "    discounted_price = total_price * 0.9\n",
    "\n",
    "print(f\"Price after discount: ${discounted_price:.2f}\")\n"
   ]
  },
  {
   "cell_type": "code",
   "execution_count": 9,
   "id": "24d7b501-5ae7-4e2d-8dc4-6b08ce89ad1a",
   "metadata": {},
   "outputs": [
    {
     "name": "stdin",
     "output_type": "stream",
     "text": [
      "Enter the number of items bought:  22\n"
     ]
    },
    {
     "name": "stdout",
     "output_type": "stream",
     "text": [
      "Items to pay for: 11\n"
     ]
    }
   ],
   "source": [
    "items_bought = int(input(\"Enter the number of items bought: \"))\n",
    "\n",
    "if items_bought % 2 == 0:\n",
    "    items_to_pay_for = items_bought // 2\n",
    "else:\n",
    "    items_to_pay_for = items_bought\n",
    "\n",
    "print(f\"Items to pay for: {items_to_pay_for}\")\n"
   ]
  },
  {
   "cell_type": "code",
   "execution_count": 11,
   "id": "14b60841-50dd-4c32-8e9b-91ce863f4aa1",
   "metadata": {},
   "outputs": [
    {
     "name": "stdin",
     "output_type": "stream",
     "text": [
      "Enter the price of the item: $ 340\n"
     ]
    },
    {
     "name": "stdout",
     "output_type": "stream",
     "text": [
      "Total price after tax: $367.20\n"
     ]
    }
   ],
   "source": [
    "price = float(input(\"Enter the price of the item: $\"))\n",
    "\n",
    "if price > 500:\n",
    "    total_price = price * 1.15\n",
    "else:\n",
    "    total_price = price * 1.08\n",
    "\n",
    "print(f\"Total price after tax: ${total_price:.2f}\")\n"
   ]
  },
  {
   "cell_type": "code",
   "execution_count": 13,
   "id": "f97843e1-dbc8-41ab-b2b3-46d51eb16371",
   "metadata": {},
   "outputs": [
    {
     "name": "stdin",
     "output_type": "stream",
     "text": [
      "Enter the annual income: $ 40000\n"
     ]
    },
    {
     "name": "stdout",
     "output_type": "stream",
     "text": [
      "Tax amount: $4000.00\n"
     ]
    }
   ],
   "source": [
    "income = float(input(\"Enter the annual income: $\"))\n",
    "\n",
    "if income > 50000:\n",
    "    tax = income * 0.2\n",
    "else:\n",
    "    tax = income * 0.1\n",
    "\n",
    "print(f\"Tax amount: ${tax:.2f}\")\n"
   ]
  },
  {
   "cell_type": "code",
   "execution_count": 15,
   "id": "86e7a484-6c92-4d7e-a818-8b054192624a",
   "metadata": {},
   "outputs": [
    {
     "name": "stdin",
     "output_type": "stream",
     "text": [
      "Enter the annual income: $ 800000\n"
     ]
    },
    {
     "name": "stdout",
     "output_type": "stream",
     "text": [
      "Tax bracket: High Tax\n"
     ]
    }
   ],
   "source": [
    "income = float(input(\"Enter the annual income: $\"))\n",
    "\n",
    "if income < 30000:\n",
    "    tax_bracket = \"Low Tax\"\n",
    "elif income < 100000:\n",
    "    tax_bracket = \"Medium Tax\"\n",
    "else:\n",
    "    tax_bracket = \"High Tax\"\n",
    "\n",
    "print(f\"Tax bracket: {tax_bracket}\")\n"
   ]
  },
  {
   "cell_type": "code",
   "execution_count": 17,
   "id": "053e9c3d-38a6-410d-8b1d-956d572a7836",
   "metadata": {},
   "outputs": [
    {
     "name": "stdin",
     "output_type": "stream",
     "text": [
      "Is the item essential? (yes/no):  no\n",
      "Enter the price of the item: $ 55\n"
     ]
    },
    {
     "name": "stdout",
     "output_type": "stream",
     "text": [
      "Final price after VAT: $61.60\n"
     ]
    }
   ],
   "source": [
    "is_essential = input(\"Is the item essential? (yes/no): \").lower() == \"yes\"\n",
    "price = float(input(\"Enter the price of the item: $\"))\n",
    "\n",
    "if is_essential:\n",
    "    final_price = price * 1.05\n",
    "else:\n",
    "    final_price = price * 1.12\n",
    "\n",
    "print(f\"Final price after VAT: ${final_price:.2f}\")\n"
   ]
  },
  {
   "cell_type": "code",
   "execution_count": 20,
   "id": "65a968a2-5c20-401b-9386-ea9761c39ebd",
   "metadata": {},
   "outputs": [
    {
     "name": "stdin",
     "output_type": "stream",
     "text": [
      "Is today a tax-free day? (yes/no):  yes\n",
      "Enter the original price: $ 890\n"
     ]
    },
    {
     "name": "stdout",
     "output_type": "stream",
     "text": [
      "Original price: $890.00\n"
     ]
    }
   ],
   "source": [
    "tax_free = input(\"Is today a tax-free day? (yes/no): \").lower() == \"yes\"\n",
    "price = float(input(\"Enter the original price: $\"))\n",
    "\n",
    "if tax_free:\n",
    "    print(f\"Original price: ${price:.2f}\")\n",
    "else:\n",
    "    final_price = price * 1.07\n",
    "    print(f\"Price after tax: ${final_price:.2f}\")\n"
   ]
  },
  {
   "cell_type": "code",
   "execution_count": 22,
   "id": "eb8fea07-8d42-4427-b265-767c8041a055",
   "metadata": {},
   "outputs": [
    {
     "name": "stdin",
     "output_type": "stream",
     "text": [
      "Enter the total purchase amount: $ 6000\n"
     ]
    },
    {
     "name": "stdout",
     "output_type": "stream",
     "text": [
      "Total amount including free shipping: $6000.00\n"
     ]
    }
   ],
   "source": [
    "total_purchase = float(input(\"Enter the total purchase amount: $\"))\n",
    "\n",
    "if total_purchase > 50:\n",
    "    print(f\"Total amount including free shipping: ${total_purchase:.2f}\")\n",
    "else:\n",
    "    total_amount = total_purchase + 5\n",
    "    print(f\"Total amount including shipping: ${total_amount:.2f}\")\n"
   ]
  },
  {
   "cell_type": "code",
   "execution_count": 24,
   "id": "ea34553c-a000-466e-84b9-4127d105d2c2",
   "metadata": {},
   "outputs": [
    {
     "name": "stdin",
     "output_type": "stream",
     "text": [
      "Enter the discount code:  90\n",
      "Enter the total price: $ 66665\n"
     ]
    },
    {
     "name": "stdout",
     "output_type": "stream",
     "text": [
      "Incorrect code. Total price: $66665.00\n"
     ]
    }
   ],
   "source": [
    "discount_code = input(\"Enter the discount code: \").strip()\n",
    "price = float(input(\"Enter the total price: $\"))\n",
    "\n",
    "if discount_code == \"DISCOUNT10\":\n",
    "    final_price = price * 0.9\n",
    "    print(f\"Discount applied! Final price: ${final_price:.2f}\")\n",
    "else:\n",
    "    print(f\"Incorrect code. Total price: ${price:.2f}\")\n"
   ]
  },
  {
   "cell_type": "code",
   "execution_count": 26,
   "id": "94f72630-595e-4ae6-a42c-b9d791b90f9c",
   "metadata": {},
   "outputs": [
    {
     "name": "stdin",
     "output_type": "stream",
     "text": [
      "Enter the total price: $ 4000\n"
     ]
    },
    {
     "name": "stdout",
     "output_type": "stream",
     "text": [
      "Final price after discount: $3200.00\n"
     ]
    }
   ],
   "source": [
    "total_price = float(input(\"Enter the total price: $\"))\n",
    "\n",
    "if total_price > 100:\n",
    "    total_price *= 0.8\n",
    "elif total_price > 50:\n",
    "    total_price *= 0.9\n",
    "\n",
    "print(f\"Final price after discount: ${total_price:.2f}\")\n"
   ]
  },
  {
   "cell_type": "code",
   "execution_count": 28,
   "id": "a68bf14c-d61a-43b0-8c39-35f244412556",
   "metadata": {},
   "outputs": [
    {
     "name": "stdin",
     "output_type": "stream",
     "text": [
      "Enter the total amount: $ 7000\n"
     ]
    },
    {
     "name": "stdout",
     "output_type": "stream",
     "text": [
      "Total amount: $7000.00\n"
     ]
    }
   ],
   "source": [
    "total_amount = float(input(\"Enter the total amount: $\"))\n",
    "\n",
    "if total_amount < 20:\n",
    "    print(\"Minimum purchase of $20 is required.\")\n",
    "else:\n",
    "    print(f\"Total amount: ${total_amount:.2f}\")\n"
   ]
  },
  {
   "cell_type": "code",
   "execution_count": 30,
   "id": "3cfcc7b3-b113-4362-bc30-c20f50207b3c",
   "metadata": {},
   "outputs": [
    {
     "name": "stdin",
     "output_type": "stream",
     "text": [
      "Is the customer a loyal member? (yes/no):  no\n",
      "Enter the earned points:  78\n"
     ]
    },
    {
     "name": "stdout",
     "output_type": "stream",
     "text": [
      "Loyalty points earned: 78\n"
     ]
    }
   ],
   "source": [
    "is_loyal = input(\"Is the customer a loyal member? (yes/no): \").lower() == \"yes\"\n",
    "points = int(input(\"Enter the earned points: \"))\n",
    "\n",
    "if is_loyal:\n",
    "    points *= 2\n",
    "\n",
    "print(f\"Loyalty points earned: {points}\")\n"
   ]
  },
  {
   "cell_type": "code",
   "execution_count": 32,
   "id": "4218ab67-a695-4a9f-abfd-00db9d9f206b",
   "metadata": {},
   "outputs": [
    {
     "name": "stdin",
     "output_type": "stream",
     "text": [
      "Enter the travel distance (in miles):  50\n",
      "Enter the ticket price: $ 500\n"
     ]
    },
    {
     "name": "stdout",
     "output_type": "stream",
     "text": [
      "No discount. Total price: $500.00\n"
     ]
    }
   ],
   "source": [
    "distance = float(input(\"Enter the travel distance (in miles): \"))\n",
    "ticket_price = float(input(\"Enter the ticket price: $\"))\n",
    "\n",
    "if distance > 500:\n",
    "    final_price = ticket_price * 0.8\n",
    "    print(f\"Travel discount applied! Final price: ${final_price:.2f}\")\n",
    "else:\n",
    "    print(f\"No discount. Total price: ${ticket_price:.2f}\")\n"
   ]
  },
  {
   "cell_type": "code",
   "execution_count": 34,
   "id": "c12aaa8e-8a78-4f34-b2f5-063243617553",
   "metadata": {},
   "outputs": [
    {
     "name": "stdin",
     "output_type": "stream",
     "text": [
      "Enter the passenger's age:  66\n",
      "Enter the ticket price: $ 500\n"
     ]
    },
    {
     "name": "stdout",
     "output_type": "stream",
     "text": [
      "Discount applied! Final price: $425.00\n"
     ]
    }
   ],
   "source": [
    "age = int(input(\"Enter the passenger's age: \"))\n",
    "ticket_price = float(input(\"Enter the ticket price: $\"))\n",
    "\n",
    "if age < 12 or age > 60:\n",
    "    final_price = ticket_price * 0.85\n",
    "    print(f\"Discount applied! Final price: ${final_price:.2f}\")\n",
    "else:\n",
    "    print(f\"No discount. Total price: ${ticket_price:.2f}\")\n"
   ]
  },
  {
   "cell_type": "code",
   "execution_count": 36,
   "id": "e585973d-6e77-4510-bbb9-f04891e166dd",
   "metadata": {},
   "outputs": [
    {
     "name": "stdin",
     "output_type": "stream",
     "text": [
      "Is the ticket for a weekend? (yes/no):  yes\n",
      "Enter the standard ticket price: $ 600\n"
     ]
    },
    {
     "name": "stdout",
     "output_type": "stream",
     "text": [
      "Weekend surcharge applied! Total price: $660.00\n"
     ]
    }
   ],
   "source": [
    "is_weekend = input(\"Is the ticket for a weekend? (yes/no): \").lower() == \"yes\"\n",
    "ticket_price = float(input(\"Enter the standard ticket price: $\"))\n",
    "\n",
    "if is_weekend:\n",
    "    final_price = ticket_price * 1.1\n",
    "    print(f\"Weekend surcharge applied! Total price: ${final_price:.2f}\")\n",
    "else:\n",
    "    print(f\"Standard price: ${ticket_price:.2f}\")\n"
   ]
  },
  {
   "cell_type": "code",
   "execution_count": 38,
   "id": "6c6da480-19ed-4e90-9cc1-d1c43ee356ea",
   "metadata": {},
   "outputs": [
    {
     "name": "stdin",
     "output_type": "stream",
     "text": [
      "Enter the total baggage weight (in kg):  50\n"
     ]
    },
    {
     "name": "stdout",
     "output_type": "stream",
     "text": [
      "Extra baggage fee: $300.00\n"
     ]
    }
   ],
   "source": [
    "baggage_weight = float(input(\"Enter the total baggage weight (in kg): \"))\n",
    "extra_fee = 0\n",
    "\n",
    "if baggage_weight > 20:\n",
    "    extra_fee = (baggage_weight - 20) * 10\n",
    "\n",
    "print(f\"Extra baggage fee: ${extra_fee:.2f}\")\n"
   ]
  },
  {
   "cell_type": "code",
   "execution_count": 40,
   "id": "83afbc48-2f4c-44dd-a139-95bdcbc01835",
   "metadata": {},
   "outputs": [
    {
     "name": "stdin",
     "output_type": "stream",
     "text": [
      "Enter the number of days before travel the ticket was booked:  5\n",
      "Enter the ticket price: $ 500\n"
     ]
    },
    {
     "name": "stdout",
     "output_type": "stream",
     "text": [
      "No discount. Total price: $500.00\n"
     ]
    }
   ],
   "source": [
    "days_in_advance = int(input(\"Enter the number of days before travel the ticket was booked: \"))\n",
    "ticket_price = float(input(\"Enter the ticket price: $\"))\n",
    "\n",
    "if days_in_advance > 30:\n",
    "    final_price = ticket_price * 0.9\n",
    "    print(f\"Early bird discount applied! Final price: ${final_price:.2f}\")\n",
    "else:\n",
    "    print(f\"No discount. Total price: ${ticket_price:.2f}\")\n"
   ]
  },
  {
   "cell_type": "code",
   "execution_count": 42,
   "id": "e9b6df9f-8eb0-4feb-b6f5-3604b2fe2b7a",
   "metadata": {},
   "outputs": [
    {
     "name": "stdin",
     "output_type": "stream",
     "text": [
      "Enter the student's score:  40\n"
     ]
    },
    {
     "name": "stdout",
     "output_type": "stream",
     "text": [
      "Pass\n"
     ]
    }
   ],
   "source": [
    "score = float(input(\"Enter the student's score: \"))\n",
    "\n",
    "if score >= 40:\n",
    "    print(\"Pass\")\n",
    "else:\n",
    "    print(\"Fail\")\n"
   ]
  },
  {
   "cell_type": "code",
   "execution_count": 44,
   "id": "d340fad9-e7d6-4d49-babd-c570ddde4033",
   "metadata": {},
   "outputs": [
    {
     "name": "stdin",
     "output_type": "stream",
     "text": [
      "Enter the student's score:  50\n"
     ]
    },
    {
     "name": "stdout",
     "output_type": "stream",
     "text": [
      "Grade: C\n"
     ]
    }
   ],
   "source": [
    "score = float(input(\"Enter the student's score: \"))\n",
    "\n",
    "if score >= 90:\n",
    "    grade = \"A\"\n",
    "elif score >= 75:\n",
    "    grade = \"B\"\n",
    "elif score >= 50:\n",
    "    grade = \"C\"\n",
    "else:\n",
    "    grade = \"F\"\n",
    "\n",
    "print(f\"Grade: {grade}\")\n"
   ]
  },
  {
   "cell_type": "code",
   "execution_count": 46,
   "id": "04a9fef2-c09b-4694-94f4-04242d9da7be",
   "metadata": {},
   "outputs": [
    {
     "name": "stdin",
     "output_type": "stream",
     "text": [
      "Enter the student's score:  87\n",
      "Has the student completed all assignments? (yes/no):  yes\n"
     ]
    },
    {
     "name": "stdout",
     "output_type": "stream",
     "text": [
      "Final score: 92.0\n"
     ]
    }
   ],
   "source": [
    "score = float(input(\"Enter the student's score: \"))\n",
    "completed_assignments = input(\"Has the student completed all assignments? (yes/no): \").lower() == \"yes\"\n",
    "\n",
    "if completed_assignments:\n",
    "    score += 5\n",
    "\n",
    "print(f\"Final score: {score}\")\n"
   ]
  },
  {
   "cell_type": "code",
   "execution_count": 48,
   "id": "943f6ecd-e443-4e1a-9589-0f4483013f65",
   "metadata": {},
   "outputs": [
    {
     "name": "stdin",
     "output_type": "stream",
     "text": [
      "Enter the student's attendance percentage:  89\n"
     ]
    },
    {
     "name": "stdout",
     "output_type": "stream",
     "text": [
      "Eligible to take the exam\n"
     ]
    }
   ],
   "source": [
    "attendance = float(input(\"Enter the student's attendance percentage: \"))\n",
    "\n",
    "if attendance >= 75:\n",
    "    print(\"Eligible to take the exam\")\n",
    "else:\n",
    "    print(\"Not eligible to take the exam\")\n"
   ]
  },
  {
   "cell_type": "code",
   "execution_count": 50,
   "id": "ad7f9e99-ed22-4a62-9c33-dcf8b6b0e496",
   "metadata": {},
   "outputs": [
    {
     "name": "stdin",
     "output_type": "stream",
     "text": [
      "Enter the student's grade (A/B/C/F):  f\n",
      "Enter the annual family income: $ 40000\n"
     ]
    },
    {
     "name": "stdout",
     "output_type": "stream",
     "text": [
      "Not eligible for scholarship\n"
     ]
    }
   ],
   "source": [
    "grade = input(\"Enter the student's grade (A/B/C/F): \").strip().upper()\n",
    "family_income = float(input(\"Enter the annual family income: $\"))\n",
    "\n",
    "if grade == \"A\" and family_income < 30000:\n",
    "    print(\"Eligible for scholarship\")\n",
    "else:\n",
    "    print(\"Not eligible for scholarship\")\n"
   ]
  },
  {
   "cell_type": "code",
   "execution_count": null,
   "id": "67951167-9f9c-42ba-87c8-4852af2778a7",
   "metadata": {},
   "outputs": [],
   "source": []
  }
 ],
 "metadata": {
  "kernelspec": {
   "display_name": "Python 3 (ipykernel)",
   "language": "python",
   "name": "python3"
  },
  "language_info": {
   "codemirror_mode": {
    "name": "ipython",
    "version": 3
   },
   "file_extension": ".py",
   "mimetype": "text/x-python",
   "name": "python",
   "nbconvert_exporter": "python",
   "pygments_lexer": "ipython3",
   "version": "3.12.7"
  }
 },
 "nbformat": 4,
 "nbformat_minor": 5
}
