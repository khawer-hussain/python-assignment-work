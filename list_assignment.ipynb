{
 "cells": [
  {
   "cell_type": "code",
   "execution_count": 1,
   "id": "9d2e4d10-b8e5-4656-8bfd-0a61337cb25a",
   "metadata": {},
   "outputs": [
    {
     "name": "stdin",
     "output_type": "stream",
     "text": [
      "Enter elements of the list separated by spaces:  2 3 4 5 6 7 87 8 1 2 3 2 43 3 45 6 65\n"
     ]
    },
    {
     "name": "stdout",
     "output_type": "stream",
     "text": [
      "Alternate elements of the list: ['2', '4', '6', '87', '1', '3', '43', '45', '65']\n"
     ]
    }
   ],
   "source": [
    "user_list = input(\"Enter elements of the list separated by spaces: \").split()\n",
    "alternate_elements = user_list[::2]\n",
    "print(\"Alternate elements of the list:\", alternate_elements)\n"
   ]
  },
  {
   "cell_type": "code",
   "execution_count": 3,
   "id": "6d8aee25-c5ff-482b-9393-99c5b7919bfd",
   "metadata": {},
   "outputs": [
    {
     "name": "stdin",
     "output_type": "stream",
     "text": [
      "Enter elements of the list separated by spaces:  3 24 45 564 3 4 53 234 45 45 32 23 65 56 \n"
     ]
    },
    {
     "name": "stdout",
     "output_type": "stream",
     "text": [
      "Reversed list: ['56', '65', '23', '32', '45', '45', '234', '53', '4', '3', '564', '45', '24', '3']\n"
     ]
    }
   ],
   "source": [
    "user_list = input(\"Enter elements of the list separated by spaces: \").split()\n",
    "reversed_list = user_list[::-1]\n",
    "print(\"Reversed list:\", reversed_list)\n"
   ]
  },
  {
   "cell_type": "code",
   "execution_count": 5,
   "id": "01446a3a-3ea5-400a-9469-b63acee01743",
   "metadata": {},
   "outputs": [
    {
     "name": "stdin",
     "output_type": "stream",
     "text": [
      "Enter numbers separated by spaces:  234 45 4365\n"
     ]
    },
    {
     "name": "stdout",
     "output_type": "stream",
     "text": [
      "The largest number in the list is: 4365\n"
     ]
    }
   ],
   "source": [
    "user_list = list(map(int, input(\"Enter numbers separated by spaces: \").split()))\n",
    "largest = user_list[0]\n",
    "\n",
    "for num in user_list:\n",
    "    if num > largest:\n",
    "        largest = num\n",
    "\n",
    "print(\"The largest number in the list is:\", largest)\n"
   ]
  },
  {
   "cell_type": "code",
   "execution_count": 7,
   "id": "5b9d6086-f279-4c6c-91e3-c3fac2e1c877",
   "metadata": {},
   "outputs": [
    {
     "name": "stdin",
     "output_type": "stream",
     "text": [
      "Enter elements of the list separated by spaces:  231 3425 234 11 13\n"
     ]
    },
    {
     "name": "stdout",
     "output_type": "stream",
     "text": [
      "Rotated list: ['3425', '234', '11', '13', '231']\n"
     ]
    }
   ],
   "source": [
    "user_list = input(\"Enter elements of the list separated by spaces: \").split()\n",
    "rotated_list = user_list[1:] + user_list[:1]\n",
    "print(\"Rotated list:\", rotated_list)\n"
   ]
  },
  {
   "cell_type": "code",
   "execution_count": 9,
   "id": "ceb49363-67a5-4961-8a4f-82dc73e45497",
   "metadata": {},
   "outputs": [
    {
     "name": "stdin",
     "output_type": "stream",
     "text": [
      "Enter a string:  hello world \n",
      "Enter the word to delete:  hello\n"
     ]
    },
    {
     "name": "stdout",
     "output_type": "stream",
     "text": [
      "Modified string: world\n"
     ]
    }
   ],
   "source": [
    "string = input(\"Enter a string: \")\n",
    "word_to_delete = input(\"Enter the word to delete: \")\n",
    "modified_string = string.replace(word_to_delete, \"\").strip()\n",
    "print(\"Modified string:\", modified_string)\n"
   ]
  },
  {
   "cell_type": "code",
   "execution_count": 11,
   "id": "3a532e52-75d0-4442-8560-7d624278ee1a",
   "metadata": {},
   "outputs": [
    {
     "name": "stdin",
     "output_type": "stream",
     "text": [
      "Enter a date in the format mm/dd/yyyy:  12/30/2121\n"
     ]
    },
    {
     "name": "stdout",
     "output_type": "stream",
     "text": [
      "Formatted date: December 30, 2121\n"
     ]
    }
   ],
   "source": [
    "import calendar\n",
    "\n",
    "date = input(\"Enter a date in the format mm/dd/yyyy: \")\n",
    "month, day, year = map(int, date.split(\"/\"))\n",
    "month_name = calendar.month_name[month]\n",
    "formatted_date = f\"{month_name} {day}, {year}\"\n",
    "print(\"Formatted date:\", formatted_date)\n"
   ]
  },
  {
   "cell_type": "code",
   "execution_count": 13,
   "id": "9ba383a6-1813-418f-b9fd-d884ba152214",
   "metadata": {},
   "outputs": [
    {
     "name": "stdin",
     "output_type": "stream",
     "text": [
      "Enter a sentence:  i have two dogs\n"
     ]
    },
    {
     "name": "stdout",
     "output_type": "stream",
     "text": [
      "Capitalized sentence: I Have Two Dogs\n"
     ]
    }
   ],
   "source": [
    "def capitalize_words(sentence):\n",
    "    words = sentence.split()\n",
    "    capitalized_words = [word.capitalize() for word in words]\n",
    "    return \" \".join(capitalized_words)\n",
    "\n",
    "string = input(\"Enter a sentence: \")\n",
    "capitalized_string = capitalize_words(string)\n",
    "print(\"Capitalized sentence:\", capitalized_string)\n"
   ]
  },
  {
   "cell_type": "code",
   "execution_count": 15,
   "id": "1390f484-5b40-4303-94fc-70b4ac30e440",
   "metadata": {},
   "outputs": [
    {
     "name": "stdin",
     "output_type": "stream",
     "text": [
      "Enter the number of rows:  4\n",
      "Enter the number of columns:  3\n"
     ]
    },
    {
     "name": "stdout",
     "output_type": "stream",
     "text": [
      "Enter the elements row by row:\n"
     ]
    },
    {
     "name": "stdin",
     "output_type": "stream",
     "text": [
      " 1 2 3 4 \n",
      " 2 3 4 5 \n",
      " 1 2 45 6\n",
      " 1 3 4 5 \n"
     ]
    },
    {
     "name": "stdout",
     "output_type": "stream",
     "text": [
      "Sum of row 1 = 10\n",
      "Sum of row 2 = 14\n",
      "Sum of row 3 = 54\n",
      "Sum of row 4 = 13\n"
     ]
    }
   ],
   "source": [
    "rows = int(input(\"Enter the number of rows: \"))\n",
    "cols = int(input(\"Enter the number of columns: \"))\n",
    "matrix = []\n",
    "\n",
    "print(\"Enter the elements row by row:\")\n",
    "for i in range(rows):\n",
    "    row = list(map(int, input().split()))\n",
    "    matrix.append(row)\n",
    "\n",
    "for i, row in enumerate(matrix):\n",
    "    row_sum = sum(row)\n",
    "    print(f\"Sum of row {i + 1} = {row_sum}\")\n"
   ]
  },
  {
   "cell_type": "code",
   "execution_count": 25,
   "id": "535007a4-7718-4b17-b55f-c69c13b98ee3",
   "metadata": {},
   "outputs": [
    {
     "name": "stdin",
     "output_type": "stream",
     "text": [
      "Enter the number of rows:  2\n",
      "Enter the number of columns:  2\n"
     ]
    },
    {
     "name": "stdout",
     "output_type": "stream",
     "text": [
      "Enter elements for the first matrix:\n"
     ]
    },
    {
     "name": "stdin",
     "output_type": "stream",
     "text": [
      " 2\n",
      " 2\n",
      " 2\n",
      " 2\n"
     ]
    },
    {
     "name": "stdout",
     "output_type": "stream",
     "text": [
      "Enter elements for the second matrix:\n"
     ]
    },
    {
     "name": "stdin",
     "output_type": "stream",
     "text": [
      " 2\n",
      " 2\n",
      " 2\n",
      " 2\n"
     ]
    },
    {
     "name": "stdout",
     "output_type": "stream",
     "text": [
      "Sum of the matrices:\n",
      "[4, 4]\n",
      "[4, 4]\n"
     ]
    }
   ],
   "source": [
    "rows = int(input(\"Enter the number of rows: \"))\n",
    "cols = int(input(\"Enter the number of columns: \"))\n",
    "\n",
    "print(\"Enter elements for the first matrix:\")\n",
    "matrix1 = [[int(input()) for _ in range(cols)] for _ in range(rows)]\n",
    "\n",
    "print(\"Enter elements for the second matrix:\")\n",
    "matrix2 = [[int(input()) for _ in range(cols)] for _ in range(rows)]\n",
    "\n",
    "result = [[matrix1[i][j] + matrix2[i][j] for j in range(cols)] for i in range(rows)]\n",
    "\n",
    "print(\"Sum of the matrices:\")\n",
    "for row in result:\n",
    "    print(row)\n"
   ]
  },
  {
   "cell_type": "code",
   "execution_count": 23,
   "id": "e6e064b7-66d7-4731-a2e8-ba0c1899a134",
   "metadata": {},
   "outputs": [
    {
     "name": "stdin",
     "output_type": "stream",
     "text": [
      "Enter the number of rows in the first matrix:  2\n",
      "Enter the number of columns in the first matrix:  2\n",
      "Enter the number of rows in the second matrix:  2\n",
      "Enter the number of columns in the second matrix:  2\n"
     ]
    },
    {
     "name": "stdout",
     "output_type": "stream",
     "text": [
      "Enter elements for the first matrix:\n"
     ]
    },
    {
     "name": "stdin",
     "output_type": "stream",
     "text": [
      " 2\n",
      " 2\n",
      " 2\n",
      " 2\n"
     ]
    },
    {
     "name": "stdout",
     "output_type": "stream",
     "text": [
      "Enter elements for the second matrix:\n"
     ]
    },
    {
     "name": "stdin",
     "output_type": "stream",
     "text": [
      " 2\n",
      " 2\n",
      " 2\n",
      " 2\n"
     ]
    },
    {
     "name": "stdout",
     "output_type": "stream",
     "text": [
      "Product of the matrices:\n",
      "[8, 8]\n",
      "[8, 8]\n"
     ]
    }
   ],
   "source": [
    "rows1 = int(input(\"Enter the number of rows in the first matrix: \"))\n",
    "cols1 = int(input(\"Enter the number of columns in the first matrix: \"))\n",
    "\n",
    "rows2 = int(input(\"Enter the number of rows in the second matrix: \"))\n",
    "cols2 = int(input(\"Enter the number of columns in the second matrix: \"))\n",
    "\n",
    "if cols1 != rows2:\n",
    "    print(\"Matrix multiplication is not possible. Number of columns in the first matrix must equal the number of rows in the second matrix.\")\n",
    "else:\n",
    "    print(\"Enter elements for the first matrix:\")\n",
    "    matrix1 = [[int(input()) for _ in range(cols1)] for _ in range(rows1)]\n",
    "\n",
    "    print(\"Enter elements for the second matrix:\")\n",
    "    matrix2 = [[int(input()) for _ in range(cols2)] for _ in range(rows2)]\n",
    "\n",
    "    result = [[sum(matrix1[i][k] * matrix2[k][j] for k in range(cols1)) for j in range(cols2)] for i in range(rows1)]\n",
    "\n",
    "    print(\"Product of the matrices:\")\n",
    "    for row in result:\n",
    "        print(row)\n",
    "\n"
   ]
  },
  {
   "cell_type": "code",
   "execution_count": null,
   "id": "4d96f931-1a98-4408-9062-b19b633e7d80",
   "metadata": {},
   "outputs": [],
   "source": []
  }
 ],
 "metadata": {
  "kernelspec": {
   "display_name": "Python 3 (ipykernel)",
   "language": "python",
   "name": "python3"
  },
  "language_info": {
   "codemirror_mode": {
    "name": "ipython",
    "version": 3
   },
   "file_extension": ".py",
   "mimetype": "text/x-python",
   "name": "python",
   "nbconvert_exporter": "python",
   "pygments_lexer": "ipython3",
   "version": "3.12.7"
  }
 },
 "nbformat": 4,
 "nbformat_minor": 5
}
