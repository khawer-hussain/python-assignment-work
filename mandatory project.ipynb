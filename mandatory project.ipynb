{
 "cells": [
  {
   "cell_type": "code",
   "execution_count": null,
   "id": "b930150b-e725-4d53-b4ee-c2e2b2c39970",
   "metadata": {},
   "outputs": [],
   "source": [
    "import os\n",
    "def create_account(name, initial_balance=0.0):\n",
    "    account = {\n",
    "        \"name\": name,\n",
    "        \"balance\": initial_balance,\n",
    "        \"transactions\": []\n",
    "    }\n",
    "    print(f\"Account for {name} created with balance ${initial_balance:.2f}.\")\n",
    "    return account\n",
    "def deposit(account, amount):\n",
    "    if amount > 0:\n",
    "        account[\"balance\"] += amount\n",
    "        account[\"transactions\"].append({\"type\": \"Deposit\", \"amount\": amount, \"balance\": account[\"balance\"]})\n",
    "        print(f\"${amount:.2f} deposited. New balance: ${account['balance']:.2f}.\")\n",
    "        record_transaction(account[\"name\"], \"Deposit\", amount, account[\"balance\"])\n",
    "    else:\n",
    "        print(\"Error: Deposit amount must be positive.\")\n",
    "def withdraw(account, amount):\n",
    "    if amount > 0:\n",
    "        if amount <= account[\"balance\"]:\n",
    "            account[\"balance\"] -= amount\n",
    "            account[\"transactions\"].append({\"type\": \"Withdrawal\", \"amount\": amount, \"balance\": account[\"balance\"]})\n",
    "            print(f\"${amount:.2f} withdrawn. New balance: ${account['balance']:.2f}.\")\n",
    "            record_transaction(account[\"name\"], \"Withdrawal\", amount, account[\"balance\"])\n",
    "        else:\n",
    "            print(\"Error: Insufficient balance.\")\n",
    "    else:\n",
    "        print(\"Error: Withdrawal amount must be positive.\")\n",
    "def check_balance(account):\n",
    "    print(f\"Current balance: ${account['balance']:.2f}.\")\n",
    "    return account[\"balance\"]\n",
    "def print_statement(account):\n",
    "    print(f\"Account statement for {account['name']}:\")\n",
    "    if not account[\"transactions\"]:\n",
    "        print(\"No transactions available.\")\n",
    "    else:\n",
    "        for transaction in account[\"transactions\"]:\n",
    "            print(f\" - {transaction['type']}: ${transaction['amount']:.2f}. Balance: ${transaction['balance']:.2f}.\")\n",
    "def record_transaction(account_name, transaction_type, amount, balance):\n",
    "    filename = f\"{account_name}_transactions.txt\"\n",
    "    with open(filename, \"a\") as file:\n",
    "        file.write(f\"{transaction_type}: ${amount:.2f}, Balance: ${balance:.2f}\\n\")\n",
    "if __name__ == \"__main__\":\n",
    "    account = create_account(\"John Doe\", 0.0)\n",
    "    deposit(account, 500)\n",
    "    withdraw(account, 200)\n",
    "    check_balance(account)\n",
    "    print_statement(account)\n",
    "    print(f\"\\nTransactions have been recorded in '{account['name']}_transactions.txt'.\")\n"
   ]
  },
  {
   "cell_type": "code",
   "execution_count": null,
   "id": "c3e74e19-8aa5-461c-9da8-ad2500f65355",
   "metadata": {},
   "outputs": [],
   "source": []
  }
 ],
 "metadata": {
  "kernelspec": {
   "display_name": "Python 3 (ipykernel)",
   "language": "python",
   "name": "python3"
  },
  "language_info": {
   "codemirror_mode": {
    "name": "ipython",
    "version": 3
   },
   "file_extension": ".py",
   "mimetype": "text/x-python",
   "name": "python",
   "nbconvert_exporter": "python",
   "pygments_lexer": "ipython3",
   "version": "3.12.7"
  }
 },
 "nbformat": 4,
 "nbformat_minor": 5
}
