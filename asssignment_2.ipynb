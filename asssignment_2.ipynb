{
 "cells": [
  {
   "cell_type": "markdown",
   "id": "7573cae2-c453-4fde-a4e2-08567404d92e",
   "metadata": {},
   "source": [
    "## 1) Area of a Rectangle:\n",
    "#### Write a Python program to calculate the area of a rectangle. Use the formula:\n",
    "\n",
    "#### Area = length × width\n",
    "\n",
    "#### Take length and width as inputs from the user."
   ]
  },
  {
   "cell_type": "code",
   "execution_count": 14,
   "id": "40f9ff06-0332-4bac-b0e4-88fb7a5ae4ee",
   "metadata": {},
   "outputs": [
    {
     "name": "stdin",
     "output_type": "stream",
     "text": [
      "Enter lenth 3\n",
      "Enter width 3\n"
     ]
    },
    {
     "name": "stdout",
     "output_type": "stream",
     "text": [
      "Area of triangle is 9cm square\n"
     ]
    }
   ],
   "source": [
    "lenth1=int(input(\"Enter lenth\"))\n",
    "width1=int(input(\"Enter width\"))\n",
    "area=lenth1*width1\n",
    "print(\"Area of triangle is \"+ str(area) + \"cm square\")"
   ]
  },
  {
   "cell_type": "markdown",
   "id": "a9206a0a-9ed7-4719-a326-f521f2d53b08",
   "metadata": {},
   "source": [
    " ## 2) Circumference of a Circle:\n",
    "#### Write a Python program to calculate the circumference of a circle. Use the formula:\n",
    "\n",
    "#### Circumference = 2πr\n",
    "\n",
    "#### Take the radius r as input from the user."
   ]
  },
  {
   "cell_type": "code",
   "execution_count": 23,
   "id": "cab02e83-665a-4d71-8557-aa965161aa9f",
   "metadata": {},
   "outputs": [
    {
     "name": "stdin",
     "output_type": "stream",
     "text": [
      "Enter radius 3\n"
     ]
    },
    {
     "name": "stdout",
     "output_type": "stream",
     "text": [
      "circumference of a circle is 18.857142857142858cm square\n"
     ]
    }
   ],
   "source": [
    "radius=float(input(\"Enter radius\"))\n",
    "pie=float(22/7)\n",
    "circumference=2*pie*radius\n",
    "print(\"circumference of a circle is \"+ str(circumference) + \"cm square\")"
   ]
  },
  {
   "cell_type": "markdown",
   "id": "4c2a4bc4-8ce6-4df6-a2ab-dbdc2a18ff51",
   "metadata": {},
   "source": [
    "## 3) Simple Interest:\n",
    "#### Write a Python program to calculate the simple interest. Use the formula:\n",
    "#### Simple Interest = Principal × Rate × Time\n",
    "\n",
    "#### Take Principal, Rate, and Time as inputs from the user."
   ]
  },
  {
   "cell_type": "code",
   "execution_count": 27,
   "id": "57ff1c68-5ddd-4c26-abde-917c46f2580f",
   "metadata": {},
   "outputs": [
    {
     "name": "stdin",
     "output_type": "stream",
     "text": [
      "Enter time 4\n",
      "Enter principle 400\n",
      "Enter rate 25\n"
     ]
    },
    {
     "name": "stdout",
     "output_type": "stream",
     "text": [
      "simple interest  is 9\n"
     ]
    }
   ],
   "source": [
    "time=int(input(\"Enter time\"))\n",
    "principle=int(input(\"Enter principle\"))\n",
    "rate=int(input(\"Enter rate\"))\n",
    "simple_interest=lenth1*width1\n",
    "print(\"simple interest  is \"+ str(simple_interest))"
   ]
  },
  {
   "cell_type": "markdown",
   "id": "e98ad9af-4f49-433e-9fd5-b2082ceb2501",
   "metadata": {},
   "source": [
    "## 4) Speed of an Object:\n",
    "#### Write a Python program to calculate the speed of an object. Use the formula:\n",
    "#### Speed = Distance / Time\n",
    "\n",
    "#### Take Distance and Time as inputs from the user."
   ]
  },
  {
   "cell_type": "code",
   "execution_count": 30,
   "id": "477ca372-9014-4f1f-b103-7ffc200efee1",
   "metadata": {},
   "outputs": [
    {
     "name": "stdin",
     "output_type": "stream",
     "text": [
      "Enter distance 3\n",
      "Enter time 56\n"
     ]
    },
    {
     "name": "stdout",
     "output_type": "stream",
     "text": [
      "speed of object is 168\n"
     ]
    }
   ],
   "source": [
    "distance=int(input(\"Enter distance\"))\n",
    "time=int(input(\"Enter time\"))\n",
    "speed=distance*time\n",
    "print(\"speed of object is \"+ str(speed))"
   ]
  },
  {
   "cell_type": "markdown",
   "id": "9db98c99-638e-4437-a0e7-ef89dcdc3a62",
   "metadata": {},
   "source": [
    "## BMI Calculator:\n",
    "#### Write a Python program to calculate the Body Mass Index (BMI). Use the formula:\n",
    "\n",
    "### BMI = weight/height\n",
    "\n",
    "#### Take Weight (in kilograms) and Height (in meters) as inputs from the user."
   ]
  },
  {
   "cell_type": "code",
   "execution_count": 2,
   "id": "51e7cb87-b606-49c1-b36c-96263eb1b3fe",
   "metadata": {},
   "outputs": [
    {
     "name": "stdin",
     "output_type": "stream",
     "text": [
      "Enter weight in kg 72\n",
      "Enter height 6\n"
     ]
    },
    {
     "name": "stdout",
     "output_type": "stream",
     "text": [
      "BMI = 2.0\n"
     ]
    }
   ],
   "source": [
    "weight=int(input(\"Enter weight in kg\"))\n",
    "height=int(input(\"Enter height\"))\n",
    "BMI=weight/(height*height)\n",
    "print(\"BMI = \"+ str(BMI))"
   ]
  },
  {
   "cell_type": "markdown",
   "id": "f8a6f514-80c1-423d-bbd8-acd108d66c24",
   "metadata": {},
   "source": [
    "## 6) Force Using Newton's Second Law:\n",
    "\n",
    "#### Write a Python program to calculate the force on an object. Use the formula:\n",
    "##        f=ma\n",
    "#### Take m (mass in kilograms) and a (acceleration in meters/second2) as inputs from the\n",
    "#### user."
   ]
  },
  {
   "cell_type": "code",
   "execution_count": 8,
   "id": "ff4a3e82-6213-462f-a20a-a8eaff3ae501",
   "metadata": {},
   "outputs": [
    {
     "name": "stdin",
     "output_type": "stream",
     "text": [
      "Enter mass in kg 55\n",
      "Enter accelaration 65\n"
     ]
    },
    {
     "name": "stdout",
     "output_type": "stream",
     "text": [
      "force of object = 3575\n"
     ]
    }
   ],
   "source": [
    "mass=int(input(\"Enter mass in kg\"))\n",
    "accelaration=int(input(\"Enter accelaration\"))\n",
    "force=mass*accelaration\n",
    "print(\"force of object = \"+ str(force))"
   ]
  },
  {
   "cell_type": "markdown",
   "id": "1a057d45-9f1d-4054-a9fe-1b31bde4ee4b",
   "metadata": {},
   "source": [
    "#### 7"
   ]
  },
  {
   "cell_type": "code",
   "execution_count": 8,
   "id": "e626a9be-8ecd-4696-b3fb-443d400ddc48",
   "metadata": {},
   "outputs": [
    {
     "name": "stdin",
     "output_type": "stream",
     "text": [
      "Enter principal amount 222\n",
      "Enter anual interest rate 333\n",
      "ennter number of time of interest is compunded per year 444\n",
      "enter time 5\n"
     ]
    },
    {
     "ename": "TypeError",
     "evalue": "unsupported operand type(s) for ^: 'float' and 'int'",
     "output_type": "error",
     "traceback": [
      "\u001b[1;31m---------------------------------------------------------------------------\u001b[0m",
      "\u001b[1;31mTypeError\u001b[0m                                 Traceback (most recent call last)",
      "Cell \u001b[1;32mIn[8], line 5\u001b[0m\n\u001b[0;32m      3\u001b[0m number_of_time_of_interest\u001b[38;5;241m=\u001b[39m\u001b[38;5;28mint\u001b[39m(\u001b[38;5;28minput\u001b[39m(\u001b[38;5;124m\"\u001b[39m\u001b[38;5;124mennter number of time of interest is compunded per year\u001b[39m\u001b[38;5;124m\"\u001b[39m))\n\u001b[0;32m      4\u001b[0m time\u001b[38;5;241m=\u001b[39m\u001b[38;5;28mint\u001b[39m(\u001b[38;5;28minput\u001b[39m(\u001b[38;5;124m\"\u001b[39m\u001b[38;5;124menter time\u001b[39m\u001b[38;5;124m\"\u001b[39m))\n\u001b[1;32m----> 5\u001b[0m total_amount\u001b[38;5;241m=\u001b[39mp_amount\u001b[38;5;241m*\u001b[39m(\u001b[38;5;241m1\u001b[39m\u001b[38;5;241m+\u001b[39m(anual_intrest_rate\u001b[38;5;241m/\u001b[39mnumber_of_time_of_interest))\u001b[38;5;241m^\u001b[39mnumber_of_time_of_interest\u001b[38;5;241m-\u001b[39mtime\n\u001b[0;32m      6\u001b[0m \u001b[38;5;28mprint\u001b[39m(\u001b[38;5;124m\"\u001b[39m\u001b[38;5;124mtotal amount is = \u001b[39m\u001b[38;5;124m\"\u001b[39m\u001b[38;5;241m+\u001b[39m \u001b[38;5;28mstr\u001b[39m(total_amount))\n",
      "\u001b[1;31mTypeError\u001b[0m: unsupported operand type(s) for ^: 'float' and 'int'"
     ]
    }
   ],
   "source": [
    "p_amount=int(input(\"Enter principal amount\"))\n",
    "anual_intrest_rate=int(input(\"Enter anual interest rate\"))\n",
    "number_of_time_of_interest=int(input(\"ennter number of time of interest is compunded per year\"))\n",
    "time=int(input(\"enter time\"))\n",
    "total_amount=p_amount*(1+(anual_intrest_rate/number_of_time_of_interest))^number_of_time_of_interest-time\n",
    "print(\"total amount is = \"+ str(total_amount))"
   ]
  },
  {
   "cell_type": "markdown",
   "id": "3fde4d1e-26eb-4e57-92dc-a6ca5ea9ed04",
   "metadata": {},
   "source": [
    "#### 8"
   ]
  },
  {
   "cell_type": "code",
   "execution_count": 11,
   "id": "17409af7-d085-4c2b-aacf-6dc2874df04b",
   "metadata": {},
   "outputs": [
    {
     "name": "stdin",
     "output_type": "stream",
     "text": [
      "Enter the lenth of first side  23\n",
      "Enter the lenth of second side 23\n",
      "enter the lenth of third side 4\n"
     ]
    },
    {
     "name": "stdout",
     "output_type": "stream",
     "text": [
      "perimeter of a triangle is  = 50\n"
     ]
    }
   ],
   "source": [
    "a=int(input(\"Enter the lenth of first side \"))\n",
    "b=int(input(\"Enter the lenth of second side\"))\n",
    "c=int(input(\"enter the lenth of third side\"))\n",
    "perimeter=a+b+c\n",
    "print(\"perimeter of a triangle is  = \"+ str(perimeter))"
   ]
  },
  {
   "cell_type": "markdown",
   "id": "2f9d9a72-db66-4c75-960b-f1e3702b2c82",
   "metadata": {},
   "source": [
    "## 9) Volume of a Sphere:\n",
    "#### Write a Python program to calculate the volume of a sphere. Use the formula:\n",
    "\n",
    "### volume=3/4(pie)$r^3$\n",
    "\n",
    "#### Take r (radius) as input from the user."
   ]
  },
  {
   "cell_type": "code",
   "execution_count": 22,
   "id": "e0624a60-c035-4ad3-912c-34969c267a28",
   "metadata": {},
   "outputs": [
    {
     "name": "stdin",
     "output_type": "stream",
     "text": [
      "Enter radius of the sphere:  3\n"
     ]
    },
    {
     "name": "stdout",
     "output_type": "stream",
     "text": [
      "Volume of the sphere is: 113.14285714285712\n"
     ]
    }
   ],
   "source": [
    "radius = int(input(\"Enter radius of the sphere: \"))\n",
    "volume = (4/3) * (22/7) * (radius ** 3)  3\n",
    "print(\"Volume of the sphere is: \" + str(volume))\n"
   ]
  },
  {
   "cell_type": "markdown",
   "id": "b8c73355-88f6-4a78-bf1b-d39727174178",
   "metadata": {},
   "source": [
    "## 10) Kinetic Energy:\n",
    "#### Write a Python program to calculate the kinetic energy of an object. Use the formula:\n",
    "\n",
    "KE =1/2m$v^2$\n",
    "\n",
    "#### Take m (mass in kilograms) and v (velocity in meters/second) as inputs from the user."
   ]
  },
  {
   "cell_type": "code",
   "execution_count": 24,
   "id": "162bdb42-23f4-43e3-82b8-99cd6b15c9a9",
   "metadata": {},
   "outputs": [
    {
     "name": "stdin",
     "output_type": "stream",
     "text": [
      "Enter the mass of the object (in kilograms):  34\n",
      "Enter the velocity of the object (in meters/second):  68\n"
     ]
    },
    {
     "name": "stdout",
     "output_type": "stream",
     "text": [
      "The kinetic energy of the object is: 78608.0 joules\n"
     ]
    }
   ],
   "source": [
    "\n",
    "mass = float(input(\"Enter the mass of the object (in kilograms): \"))\n",
    "velocity = float(input(\"Enter the velocity of the object (in meters/second): \"))\n",
    "kinetic_energy = 0.5 * mass * (velocity ** 2)\n",
    "print(f\"The kinetic energy of the object is: {kinetic_energy} joules\")\n"
   ]
  },
  {
   "cell_type": "code",
   "execution_count": null,
   "id": "a78e9a28-e9f0-4925-aad1-fe176a40c665",
   "metadata": {},
   "outputs": [],
   "source": [
    "11) Quadratic Equation Roots:\n",
    "Write a Python program to find the roots of a quadratic equation. Use the formula:\n",
    "\n",
    "X = ି௕±√௕\n",
    "మିସ௔௖\n",
    "ଶ௔\n",
    "Take a, b, and c as inputs from the user."
   ]
  }
 ],
 "metadata": {
  "kernelspec": {
   "display_name": "Python 3 (ipykernel)",
   "language": "python",
   "name": "python3"
  },
  "language_info": {
   "codemirror_mode": {
    "name": "ipython",
    "version": 3
   },
   "file_extension": ".py",
   "mimetype": "text/x-python",
   "name": "python",
   "nbconvert_exporter": "python",
   "pygments_lexer": "ipython3",
   "version": "3.12.7"
  }
 },
 "nbformat": 4,
 "nbformat_minor": 5
}
