{
 "cells": [
  {
   "cell_type": "code",
   "execution_count": 1,
   "id": "9e00a65b-9090-4235-a0ab-51592c60cd5d",
   "metadata": {},
   "outputs": [
    {
     "name": "stdout",
     "output_type": "stream",
     "text": [
      "2002,2009,2016,2023,2037,2044,2051,2058,2072,2079,2086,2093,2107,2114,2121,2128,2142,2149,2156,2163,2177,2184,2191,2198,2212,2219,2226,2233,2247,2254,2261,2268,2282,2289,2296,2303,2317,2324,2331,2338,2352,2359,2366,2373,2387,2394,2401,2408,2422,2429,2436,2443,2457,2464,2471,2478,2492,2499,2506,2513,2527,2534,2541,2548,2562,2569,2576,2583,2597,2604,2611,2618,2632,2639,2646,2653,2667,2674,2681,2688,2702,2709,2716,2723,2737,2744,2751,2758,2772,2779,2786,2793,2807,2814,2821,2828,2842,2849,2856,2863,2877,2884,2891,2898,2912,2919,2926,2933,2947,2954,2961,2968,2982,2989,2996,3003,3017,3024,3031,3038,3052,3059,3066,3073,3087,3094,3101,3108,3122,3129,3136,3143,3157,3164,3171,3178,3192,3199\n"
     ]
    }
   ],
   "source": [
    "def numbers_divisible_by_7_not_5():\n",
    "    result = []\n",
    "    for num in range(2000, 3201):\n",
    "        if num % 7 == 0 and num % 5 != 0:\n",
    "            result.append(str(num))\n",
    "    return \",\".join(result)\n",
    "print(numbers_divisible_by_7_not_5())\n"
   ]
  },
  {
   "cell_type": "code",
   "execution_count": 10,
   "id": "a2bc61dc-4323-4d8e-9298-b4a733035c49",
   "metadata": {},
   "outputs": [
    {
     "name": "stdout",
     "output_type": "stream",
     "text": [
      "5,4,4\n"
     ]
    }
   ],
   "source": [
    "import math\n",
    "\n",
    "def calculate_value(c_values):\n",
    "    A = 50\n",
    "    B = 30\n",
    "    results = []\n",
    "\n",
    "    for C in c_values:\n",
    "        P = math.sqrt((2 * A * B) / C)\n",
    "        results.append(str(int(P)))  \n",
    "    \n",
    "    return \",\".join(results)\n",
    "\n",
    "input_c = [100, 150, 180]\n",
    "print(calculate_value(input_c))\n",
    "\n"
   ]
  },
  {
   "cell_type": "code",
   "execution_count": 16,
   "id": "c1c30848-5e91-4f0e-98e0-629b8145b346",
   "metadata": {},
   "outputs": [
    {
     "name": "stdin",
     "output_type": "stream",
     "text": [
      "Enter a comma-separated list of words:  hello,world,to,me\n"
     ]
    },
    {
     "name": "stdout",
     "output_type": "stream",
     "text": [
      "hello,me,to,world\n"
     ]
    }
   ],
   "source": [
    "def sort_words():\n",
    "    words = input(\"Enter a comma-separated list of words: \").split(\",\")\n",
    "    words.sort()  # Sort the list alphabetically\n",
    "    print(\",\".join(words))\n",
    "\n",
    "# Example usage\n",
    "sort_words()\n"
   ]
  },
  {
   "cell_type": "code",
   "execution_count": 18,
   "id": "1383eef3-bb78-4844-9722-d03c1c402987",
   "metadata": {},
   "outputs": [
    {
     "name": "stdin",
     "output_type": "stream",
     "text": [
      " juli\n"
     ]
    },
    {
     "name": "stdout",
     "output_type": "stream",
     "text": [
      "JULI\n"
     ]
    },
    {
     "name": "stdin",
     "output_type": "stream",
     "text": [
      " kk\n"
     ]
    },
    {
     "name": "stdout",
     "output_type": "stream",
     "text": [
      "KK\n"
     ]
    },
    {
     "name": "stdin",
     "output_type": "stream",
     "text": [
      " sjkd\n"
     ]
    },
    {
     "name": "stdout",
     "output_type": "stream",
     "text": [
      "SJKD\n"
     ]
    },
    {
     "name": "stdin",
     "output_type": "stream",
     "text": [
      " 234\n"
     ]
    },
    {
     "name": "stdout",
     "output_type": "stream",
     "text": [
      "234\n"
     ]
    },
    {
     "name": "stdin",
     "output_type": "stream",
     "text": [
      " \n"
     ]
    }
   ],
   "source": [
    "def capitalize_lines():\n",
    "    while True:\n",
    "        try:\n",
    "            line = input()\n",
    "            if not line:  \n",
    "                break\n",
    "            print(line.upper())\n",
    "        except EOFError:\n",
    "            break\n",
    "\n",
    "capitalize_lines()\n"
   ]
  },
  {
   "cell_type": "code",
   "execution_count": 20,
   "id": "a4ea6af2-e215-475a-96d3-14616ec8b7b6",
   "metadata": {},
   "outputs": [
    {
     "ename": "NameError",
     "evalue": "name 'd' is not defined",
     "output_type": "error",
     "traceback": [
      "\u001b[1;31m---------------------------------------------------------------------------\u001b[0m",
      "\u001b[1;31mNameError\u001b[0m                                 Traceback (most recent call last)",
      "Cell \u001b[1;32mIn[20], line 1\u001b[0m\n\u001b[1;32m----> 1\u001b[0m d\n",
      "\u001b[1;31mNameError\u001b[0m: name 'd' is not defined"
     ]
    }
   ],
   "source": [
    "d"
   ]
  },
  {
   "cell_type": "code",
   "execution_count": null,
   "id": "9f7d1ac9-e614-4b37-a986-6313c6eae172",
   "metadata": {},
   "outputs": [],
   "source": []
  }
 ],
 "metadata": {
  "kernelspec": {
   "display_name": "Python 3 (ipykernel)",
   "language": "python",
   "name": "python3"
  },
  "language_info": {
   "codemirror_mode": {
    "name": "ipython",
    "version": 3
   },
   "file_extension": ".py",
   "mimetype": "text/x-python",
   "name": "python",
   "nbconvert_exporter": "python",
   "pygments_lexer": "ipython3",
   "version": "3.12.7"
  }
 },
 "nbformat": 4,
 "nbformat_minor": 5
}
