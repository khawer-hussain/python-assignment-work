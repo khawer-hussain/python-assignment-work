{
 "cells": [
  {
   "cell_type": "code",
   "execution_count": 7,
   "id": "5b0713b2-c772-4c29-b938-1ff8c845ecff",
   "metadata": {},
   "outputs": [
    {
     "name": "stdout",
     "output_type": "stream",
     "text": [
      "Ali 23 pakistan\n",
      "Khawar 23 USA\n"
     ]
    }
   ],
   "source": [
    "class person:\n",
    "  def __init__(self, name, age, country):\n",
    "    self.name=name\n",
    "    self.age=age\n",
    "    self.country=country \n",
    "p1=person(\"Ali\", 23, \"pakistan\")\n",
    "print(p1.name, p1.age, p1.country)\n",
    "p2=person(\"Khawar\", 23, \"USA\")\n",
    "print(p2.name, p2.age, p2.country)"
   ]
  },
  {
   "cell_type": "code",
   "execution_count": 19,
   "id": "13732718-52b4-49a2-9bcd-0824f70a52ad",
   "metadata": {},
   "outputs": [
    {
     "name": "stdout",
     "output_type": "stream",
     "text": [
      "Area: 1012\n",
      "Perimeter: 134\n"
     ]
    }
   ],
   "source": [
    "class Rectangle:\n",
    "    def __init__(self, width, height):\n",
    "        self.width = width\n",
    "        self.height = height\n",
    "    def area(self):\n",
    "        return self.width * self.height \n",
    "    def perimeter(self):\n",
    "        return 2 * (self.width + self.height)\n",
    "o1 = Rectangle(23, 44)\n",
    "print(\"Area:\", o1.area())\n",
    "print(\"Perimeter:\", o1.perimeter())\n"
   ]
  },
  {
   "cell_type": "code",
   "execution_count": 37,
   "id": "2fde5c81-0429-4f92-8c07-acc942b9257b",
   "metadata": {},
   "outputs": [
    {
     "name": "stdout",
     "output_type": "stream",
     "text": [
      "color: blue, model: 2001, number of doors: 4\n",
      "color: red model: 2004\n"
     ]
    }
   ],
   "source": [
    "class vehicle:\n",
    "    def __init__(self, color, model):\n",
    "        self.color=color\n",
    "        self.model=model\n",
    "    def get_info(self):\n",
    "        print(f\"color: {self.color} model: {self.model}\")\n",
    "class car(vehicle):\n",
    "    def __init__(self, color, model, no_of_doors):\n",
    "        super().__init__(color, model)\n",
    "        self.no_of_doors=no_of_doors\n",
    "    def get_info(self):\n",
    "        print(f\"color: {self.color}, model: {self.model}, number of doors: {self.no_of_doors}\") \n",
    "car1=car(\"blue\", 2001, 4)\n",
    "car1.get_info()\n",
    "car2=vehicle(\"red\", 2004)\n",
    "car2.get_info()\n"
   ]
  },
  {
   "cell_type": "code",
   "execution_count": 41,
   "id": "7f4d6b0f-f752-46aa-b621-65fbdc31cfef",
   "metadata": {},
   "outputs": [
    {
     "name": "stdout",
     "output_type": "stream",
     "text": [
      "rs.  5000 was cradited\n",
      "Your balance is  15000\n"
     ]
    }
   ],
   "source": [
    "class bankaccount():\n",
    "    def __init__(self, acc_no, balance):\n",
    "        self.acc_no=acc_no\n",
    "        self.balance=balance\n",
    "    def debit(self, amount):\n",
    "        self.balance-=amount\n",
    "        print(\"rs. \", amount, \"was debited\")\n",
    "        print(\"Your balance is \", self.getbalance())\n",
    "\n",
    "    def cradit(self, amount):\n",
    "        self.balance+=amount\n",
    "        print(\"rs. \", amount , \"was cradited\")\n",
    "        print(\"Your balance is \", self.getbalance())\n",
    "    def getbalance(self):\n",
    "        return self.balance \n",
    "acc1=bankaccount(\"acc1234\", 10000)\n",
    "acc1.cradit(5000)\n",
    "        \n",
    "    \n",
    "        \n",
    "        "
   ]
  },
  {
   "cell_type": "code",
   "execution_count": 43,
   "id": "538b2871-a535-465e-95ff-35a47cd6cba0",
   "metadata": {},
   "outputs": [
    {
     "name": "stdout",
     "output_type": "stream",
     "text": [
      "The area of the circle with radius 5 is: 78.54\n",
      "The area of the triangle with base 10 and height 6 is: 30.00\n"
     ]
    }
   ],
   "source": [
    "import math\n",
    "\n",
    "# Parent class\n",
    "class Shape:\n",
    "    def area(self):\n",
    "        pass\n",
    "class Circle(Shape):\n",
    "    def __init__(self, radius):\n",
    "        self.radius = radius\n",
    "    def area(self):\n",
    "        return math.pi * (self.radius ** 2)\n",
    "class Triangle(Shape):\n",
    "    def __init__(self, base, height):\n",
    "        self.base = base\n",
    "        self.height = height\n",
    "    def area(self):\n",
    "        return 0.5 * self.base * self.height\n",
    "circle = Circle(radius=5)\n",
    "print(f\"The area of the circle with radius {circle.radius} is: {circle.area():.2f}\")\n",
    "triangle = Triangle(base=10, height=6)\n",
    "print(f\"The area of the triangle with base {triangle.base} and height {triangle.height} is: {triangle.area():.2f}\")\n"
   ]
  },
  {
   "cell_type": "code",
   "execution_count": 47,
   "id": "f840c273-c83e-4c63-b0b8-9261091fac25",
   "metadata": {},
   "outputs": [
    {
     "name": "stdout",
     "output_type": "stream",
     "text": [
      "name: mike, salary: 20000\n",
      "name: jon, salary: 20000, bonus: 5000\n"
     ]
    }
   ],
   "source": [
    "class employee:\n",
    "    def __init__(self, name, salary):\n",
    "        self.name=name\n",
    "        self.salary=salary\n",
    "    def get_info(self):\n",
    "        print(f\"name: {self.name}, salary: {self.salary}\") \n",
    "class manager(employee):\n",
    "    def __init__(self, name, salary, bonus):\n",
    "        super().__init__(name, salary)\n",
    "        self.bonus=bonus\n",
    "    def get_info(self):\n",
    "        print(f\"name: {self.name}, salary: {self.salary}, bonus: {self.bonus}\") \n",
    "emp1=employee(\"mike\", 20000)\n",
    "emp1.get_info()\n",
    "emp2=manager(\"jon\", 20000, 5000)\n",
    "emp2.get_info()"
   ]
  },
  {
   "cell_type": "code",
   "execution_count": 57,
   "id": "2b499266-3e15-4f41-945e-5722cb01836b",
   "metadata": {},
   "outputs": [
    {
     "name": "stdout",
     "output_type": "stream",
     "text": [
      "Title: Python Programming\n",
      "Author: husaain\n",
      "Publication Year: 2023\n",
      "Price: 15.99\n"
     ]
    }
   ],
   "source": [
    "class Book:\n",
    "    def __init__(self, title, author, publication_year):\n",
    "        self.title = title\n",
    "        self.author = author\n",
    "        self.publication_year = publication_year\n",
    "    def display_details(self):\n",
    "        print(f\"Title: {self.title}\")\n",
    "        print(f\"Author: {self.author}\")\n",
    "        print(f\"Publication Year: {self.publication_year}\")\n",
    "class Ebook(Book):\n",
    "    def __init__(self, title, author, publication_year, price):\n",
    "        super().__init__(title, author, publication_year)\n",
    "        self.price = price\n",
    "    def display_details(self):\n",
    "        super().display_details()\n",
    "        print(f\"Price: {self.price:.2f}\")\n",
    "ebook = Ebook(\"Python Programming\", \"husaain\", 2023, 15.99)\n",
    "ebook.display_details()\n"
   ]
  },
  {
   "cell_type": "code",
   "execution_count": 59,
   "id": "b08a40eb-f387-451b-9e7d-5c589ba40767",
   "metadata": {},
   "outputs": [
    {
     "name": "stdout",
     "output_type": "stream",
     "text": [
      "The brown dog says: woof\n"
     ]
    }
   ],
   "source": [
    "class Animal:\n",
    "    def __init__(self, species, sound):\n",
    "        self.species = species\n",
    "        self.sound = sound\n",
    "    def make_sound(self):\n",
    "        print(f\"The {self.species} says: {self.sound}\")\n",
    "class Dog(Animal):\n",
    "    def __init__(self, species, sound, color):\n",
    "        super().__init__(species, sound)\n",
    "        self.color = color\n",
    "    def make_sound(self):\n",
    "        print(f\"The {self.color} dog says: {self.sound}\")\n",
    "dog = Dog(\"dog\", \"woof\", \"brown\")\n",
    "dog.make_sound()\n"
   ]
  },
  {
   "cell_type": "code",
   "execution_count": 63,
   "id": "75664079-6607-4971-9b64-45d6aed99a67",
   "metadata": {},
   "outputs": [
    {
     "name": "stdout",
     "output_type": "stream",
     "text": [
      "Branch 'Downtown' has been added.\n",
      "Branch 'Uptown' has been added.\n",
      "Branch 'Suburb' has been added.\n",
      "Branches of Global Bank:\n",
      " - Downtown\n",
      " - Uptown\n",
      " - Suburb\n",
      "\n",
      "Removing a branch...\n",
      "Branch 'Uptown' has been removed.\n",
      "Branches of Global Bank:\n",
      " - Downtown\n",
      " - Suburb\n"
     ]
    }
   ],
   "source": [
    "class Bank:\n",
    "    def __init__(self, name):\n",
    "        self.name = name\n",
    "        self.branches = []\n",
    "\n",
    "    def add_branch(self, branch_name):\n",
    "        \"\"\"Adds a branch to the bank.\"\"\"\n",
    "        if branch_name not in self.branches:\n",
    "            self.branches.append(branch_name)\n",
    "            print(f\"Branch '{branch_name}' has been added.\")\n",
    "        else:\n",
    "            print(f\"Branch '{branch_name}' already exists.\")\n",
    "    def remove_branch(self, branch_name):\n",
    "        \"\"\"Removes a branch from the bank.\"\"\"\n",
    "        if branch_name in self.branches:\n",
    "            self.branches.remove(branch_name)\n",
    "            print(f\"Branch '{branch_name}' has been removed.\")\n",
    "        else:\n",
    "            print(f\"Branch '{branch_name}' does not exist.\")\n",
    "    def display_branches(self):\n",
    "        \"\"\"Displays all branches of the bank.\"\"\"\n",
    "        if self.branches:\n",
    "            print(f\"Branches of {self.name}:\")\n",
    "            for branch in self.branches:\n",
    "                print(f\" - {branch}\")\n",
    "        else:\n",
    "            print(f\"{self.name} has no branches.\")\n",
    "my_bank = Bank(\"Global Bank\")\n",
    "my_bank.add_branch(\"Downtown\")\n",
    "my_bank.add_branch(\"Uptown\")\n",
    "my_bank.add_branch(\"Suburb\")\n",
    "my_bank.display_branches()\n",
    "print(\"\\nRemoving a branch...\")\n",
    "my_bank.remove_branch(\"Uptown\")\n",
    "my_bank.display_branches()\n"
   ]
  },
  {
   "cell_type": "code",
   "execution_count": 65,
   "id": "8a7d5566-e297-4ca7-befd-c6a63da19631",
   "metadata": {},
   "outputs": [
    {
     "name": "stdout",
     "output_type": "stream",
     "text": [
      "Warranty Period: 24 months\n",
      "Product: Electric Toothbrush\n",
      "Price per Unit: $49.99\n",
      "Quantity: 2\n",
      "Total Price: $99.98\n"
     ]
    }
   ],
   "source": [
    "class Product:\n",
    "    def __init__(self, product_id, name, price):\n",
    "        self.product_id = product_id\n",
    "        self.name = name\n",
    "        self.price = price\n",
    "    def calculate_total_price(self, quantity):\n",
    "        \"\"\"Calculates the total price of the product based on the quantity.\"\"\"\n",
    "        return self.price * quantity\n",
    "class PersonalCareProduct(Product):\n",
    "    def __init__(self, product_id, name, price, warranty_period):\n",
    "        super().__init__(product_id, name, price)\n",
    "        self.warranty_period = warranty_period\n",
    "    def calculate_total_price(self, quantity):\n",
    "        \"\"\"Calculates the total price, mentioning the warranty period.\"\"\"\n",
    "        total_price = super().calculate_total_price(quantity)\n",
    "        print(f\"Warranty Period: {self.warranty_period} months\")\n",
    "        return total_price\n",
    "personal_care_product = PersonalCareProduct(101, \"Electric Toothbrush\", 49.99, 24)\n",
    "quantity = 2\n",
    "total_price = personal_care_product.calculate_total_price(quantity)\n",
    "print(f\"Product: {personal_care_product.name}\")\n",
    "print(f\"Price per Unit: ${personal_care_product.price:.2f}\")\n",
    "print(f\"Quantity: {quantity}\")\n",
    "print(f\"Total Price: ${total_price:.2f}\")\n"
   ]
  },
  {
   "cell_type": "code",
   "execution_count": 67,
   "id": "ef17457a-2997-4051-a49a-f38fd0aa7020",
   "metadata": {},
   "outputs": [
    {
     "name": "stdout",
     "output_type": "stream",
     "text": [
      "\n",
      "--- Depositing Money ---\n",
      "$200.00 deposited into account 1001. New balance: $700.00\n",
      "$150.00 deposited into account 1002. New balance: $450.00\n",
      "\n",
      "--- Withdrawing Money ---\n",
      "$100.00 withdrawn from account 1001. New balance: $600.00\n",
      "$50.00 withdrawn from account 1002. New balance: $400.00\n",
      "\n",
      "--- Transferring Money ---\n",
      "$200.00 transferred from account 1001 to account 1002.\n",
      "New balance: $400.00 (Sender), $600.00 (Recipient)\n",
      "\n",
      "--- Final Balances ---\n",
      "Account 1001 - Alice: $400.00\n",
      "Account 1002 - Bob: $600.00\n"
     ]
    }
   ],
   "source": [
    "class BankAccount:\n",
    "    def __init__(self, account_number, account_holder, balance=0):\n",
    "        self.account_number = account_number\n",
    "        self.account_holder = account_holder\n",
    "        self.balance = balance\n",
    "\n",
    "    def deposit(self, amount):\n",
    "        \"\"\"Deposits money into the account.\"\"\"\n",
    "        if amount > 0:\n",
    "            self.balance += amount\n",
    "            print(f\"${amount:.2f} deposited into account {self.account_number}. New balance: ${self.balance:.2f}\")\n",
    "        else:\n",
    "            print(\"Deposit amount must be positive.\")\n",
    "\n",
    "    def withdraw(self, amount):\n",
    "        \"\"\"Withdraws money from the account.\"\"\"\n",
    "        if amount > 0:\n",
    "            if amount <= self.balance:\n",
    "                self.balance -= amount\n",
    "                print(f\"${amount:.2f} withdrawn from account {self.account_number}. New balance: ${self.balance:.2f}\")\n",
    "            else:\n",
    "                print(\"Insufficient balance.\")\n",
    "        else:\n",
    "            print(\"Withdrawal amount must be positive.\")\n",
    "\n",
    "    def transfer(self, amount, recipient_account):\n",
    "        \"\"\"Transfers money from this account to another account.\"\"\"\n",
    "        if amount > 0:\n",
    "            if amount <= self.balance:\n",
    "                self.balance -= amount\n",
    "                recipient_account.balance += amount\n",
    "                print(f\"${amount:.2f} transferred from account {self.account_number} to account {recipient_account.account_number}.\")\n",
    "                print(f\"New balance: ${self.balance:.2f} (Sender), ${recipient_account.balance:.2f} (Recipient)\")\n",
    "            else:\n",
    "                print(\"Insufficient balance for transfer.\")\n",
    "        else:\n",
    "            print(\"Transfer amount must be positive.\")\n",
    "account1 = BankAccount(1001, \"Alice\", 500)\n",
    "account2 = BankAccount(1002, \"Bob\", 300)\n",
    "print(\"\\n--- Depositing Money ---\")\n",
    "account1.deposit(200)\n",
    "account2.deposit(150)\n",
    "print(\"\\n--- Withdrawing Money ---\")\n",
    "account1.withdraw(100)\n",
    "account2.withdraw(50)\n",
    "print(\"\\n--- Transferring Money ---\")\n",
    "account1.transfer(200, account2)\n",
    "print(\"\\n--- Final Balances ---\")\n",
    "print(f\"Account {account1.account_number} - {account1.account_holder}: ${account1.balance:.2f}\")\n",
    "print(f\"Account {account2.account_number} - {account2.account_holder}: ${account2.balance:.2f}\")\n"
   ]
  },
  {
   "cell_type": "code",
   "execution_count": 69,
   "id": "ba26dacd-3aa6-40d0-87e6-be38ec3fe4f0",
   "metadata": {},
   "outputs": [
    {
     "name": "stdout",
     "output_type": "stream",
     "text": [
      "\n",
      "--- Adding Departments ---\n",
      "Department 'Computer Science' has been added.\n",
      "Department 'Electrical Engineering' has been added.\n",
      "Department 'Mechanical Engineering' has been added.\n",
      "\n",
      "--- Displaying Departments ---\n",
      "Departments at Tech University:\n",
      " - Computer Science\n",
      " - Electrical Engineering\n",
      " - Mechanical Engineering\n",
      "\n",
      "--- Removing a Department ---\n",
      "Department 'Electrical Engineering' has been removed.\n",
      "\n",
      "--- Displaying Departments Again ---\n",
      "Departments at Tech University:\n",
      " - Computer Science\n",
      " - Mechanical Engineering\n"
     ]
    }
   ],
   "source": [
    "class University:\n",
    "    def __init__(self, name):\n",
    "        self.name = name\n",
    "        self.departments = []\n",
    "\n",
    "    def add_department(self, department_name):\n",
    "        \"\"\"Adds a department to the university.\"\"\"\n",
    "        if department_name not in self.departments:\n",
    "            self.departments.append(department_name)\n",
    "            print(f\"Department '{department_name}' has been added.\")\n",
    "        else:\n",
    "            print(f\"Department '{department_name}' already exists.\")\n",
    "\n",
    "    def remove_department(self, department_name):\n",
    "        \"\"\"Removes a department from the university.\"\"\"\n",
    "        if department_name in self.departments:\n",
    "            self.departments.remove(department_name)\n",
    "            print(f\"Department '{department_name}' has been removed.\")\n",
    "        else:\n",
    "            print(f\"Department '{department_name}' does not exist.\")\n",
    "\n",
    "    def display_departments(self):\n",
    "        \"\"\"Displays all departments in the university.\"\"\"\n",
    "        if self.departments:\n",
    "            print(f\"Departments at {self.name}:\")\n",
    "            for department in self.departments:\n",
    "                print(f\" - {department}\")\n",
    "        else:\n",
    "            print(f\"{self.name} has no departments.\")\n",
    "\n",
    "# Create an instance of the University class\n",
    "university = University(\"Tech University\")\n",
    "\n",
    "# Perform operations\n",
    "print(\"\\n--- Adding Departments ---\")\n",
    "university.add_department(\"Computer Science\")\n",
    "university.add_department(\"Electrical Engineering\")\n",
    "university.add_department(\"Mechanical Engineering\")\n",
    "\n",
    "print(\"\\n--- Displaying Departments ---\")\n",
    "university.display_departments()\n",
    "\n",
    "print(\"\\n--- Removing a Department ---\")\n",
    "university.remove_department(\"Electrical Engineering\")\n",
    "\n",
    "print(\"\\n--- Displaying Departments Again ---\")\n",
    "university.display_departments()\n"
   ]
  },
  {
   "cell_type": "code",
   "execution_count": null,
   "id": "0f218cac-2b53-4999-b61d-8eda39aa2213",
   "metadata": {},
   "outputs": [],
   "source": []
  }
 ],
 "metadata": {
  "kernelspec": {
   "display_name": "Python 3 (ipykernel)",
   "language": "python",
   "name": "python3"
  },
  "language_info": {
   "codemirror_mode": {
    "name": "ipython",
    "version": 3
   },
   "file_extension": ".py",
   "mimetype": "text/x-python",
   "name": "python",
   "nbconvert_exporter": "python",
   "pygments_lexer": "ipython3",
   "version": "3.12.7"
  }
 },
 "nbformat": 4,
 "nbformat_minor": 5
}
